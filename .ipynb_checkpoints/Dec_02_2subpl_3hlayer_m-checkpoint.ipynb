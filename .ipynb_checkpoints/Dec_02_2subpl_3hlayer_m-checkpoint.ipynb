{
 "cells": [
  {
   "cell_type": "code",
   "execution_count": 6,
   "metadata": {},
   "outputs": [],
   "source": [
    "import pandas as pd\n",
    "import numpy as np\n",
    "\n",
    "import pymc3 as pm \n",
    "from pymc3 import math as pmmath \n",
    "from pymc3 import Dirichlet\n",
    "from pymc3.distributions.transforms import t_stick_breaking\n",
    "\n",
    "import theano \n",
    "from theano import shared\n",
    "import theano.tensor as tt\n",
    "from theano.sandbox.rng_mrg import MRG_RandomStreams\n",
    "\n",
    "from collections import OrderedDict\n",
    "\n",
    "theano.config.compute_test_value = 'ignore'"
   ]
  },
  {
   "cell_type": "code",
   "execution_count": 2,
   "metadata": {},
   "outputs": [],
   "source": [
    "\n",
    "sim_counts = np.load(\"./celda_simulated/simCG_counts_K5L6.npy\")\n",
    "\n",
    "counts_share = theano.shared(sim_counts)\n",
    "\n"
   ]
  },
  {
   "cell_type": "code",
   "execution_count": 3,
   "metadata": {},
   "outputs": [
    {
     "name": "stdout",
     "output_type": "stream",
     "text": [
      "the shape of the doc is (444, 999)\n",
      "<class 'numpy.ndarray'>\n"
     ]
    }
   ],
   "source": [
    "n_topics = 5 \n",
    "n_subppl = 6   \n",
    "n_genes = sim_counts.shape[1]\n",
    "print(\"the shape of the doc is {}\".format(sim_counts.shape))   # cell x gene : 444 x 999\n",
    "print(type(sim_counts))"
   ]
  },
  {
   "cell_type": "code",
   "execution_count": 4,
   "metadata": {},
   "outputs": [],
   "source": [
    "def logp_lda_doc(theta, phi, psi):\n",
    "    \"\"\"return the loglikelihood\n",
    "    Z: number of topics in the model \n",
    "    M: number of cells \n",
    "    K: number of cellular subpopulation \n",
    "    N: number of genes \n",
    "    parameters\n",
    "    ----------\n",
    "    theta:  tensor (M x Z)\n",
    "      Topic distribution for document \n",
    "    phi:  tensor (Z x K) \n",
    "      Cellular subpopulation distribution within topic\n",
    "    psi: tensor (K x N)\n",
    "      Gene distributions. \n",
    "    \"\"\"\n",
    "    def ll_docs_f(docs):\n",
    "        dixs, vixs = docs.nonzero()\n",
    "        vfreqs = docs[dixs, vixs]\n",
    "        # n = len(dixs) does not work for tensor \n",
    "        #  loop the inner logsumexp over each topic  (inner logsumexp: within each topic do the logsumexp)\n",
    "        #  and the results are stored into reuslts1\n",
    "        results1, updates1 = theano.scan(lambda phi,psi,vixs: \n",
    "                             # N_shareis == length of index == vixs.shape[0]; \n",
    "                             pmmath.logsumexp(tt.log(tt.tile(phi, (vixs.shape[0],1))) + tt.log(psi.T[vixs]), axis=1).ravel(), \n",
    "                             sequences=phi, \n",
    "                             non_sequences=[psi,vixs])\n",
    "        \n",
    "        # results1 is a Z x len(dixs) tensor\n",
    "        ll_docs = vfreqs * pmmath.logsumexp(\n",
    "            tt.log(theta[dixs])+results1.T, axis=1).ravel()\n",
    "        return tt.sum(ll_docs)\n",
    "    return ll_docs_f\n",
    "\n",
    "\n",
    "\n",
    "   "
   ]
  },
  {
   "cell_type": "code",
   "execution_count": 5,
   "metadata": {},
   "outputs": [],
   "source": [
    "with pm.Model() as lda_model:\n",
    "    theta = Dirichlet(\"theta\", \n",
    "                      a=pm.floatX(1.0/n_topics)*np.ones((sim_counts.shape[0],n_topics)),\n",
    "                      shape = (sim_counts.shape[0],n_topics), transform=t_stick_breaking(1e-9) )\n",
    "    phi = Dirichlet(\"phi\", \n",
    "                   a=pm.floatX(1.0/n_topics)*np.ones((n_topics,n_subppl)),\n",
    "                   shape = (n_topics, n_subppl), transform=t_stick_breaking(1e-9))\n",
    "    psi = Dirichlet(\"psi\", \n",
    "                   a=pm.floatX(1.0/n_topics)*np.ones((n_subppl,sim_counts.shape[1])),\n",
    "                   shape = (n_subppl,sim_counts.shape[1]),transform=t_stick_breaking(1e-9) )\n",
    "    doc = pm.DensityDist('doc', logp_lda_doc(theta, phi, psi), observed=sim_counts)\n",
    "\n"
   ]
  },
  {
   "cell_type": "code",
   "execution_count": 23,
   "metadata": {},
   "outputs": [],
   "source": [
    "###### Auto-Encoding Variational Bayes\n",
    "## Encoder\n",
    "class LDAEncoder:\n",
    "    def __init__(self, n_genes, n_hidden1, n_hidden2, n_topics, n_subppl, p_corruption=0, random_seed=1):\n",
    "        rng = np.random.RandomState(random_seed)\n",
    "        self.n_genes = n_genes\n",
    "        self.n_hidden1 = n_hidden1\n",
    "        self.n_hidden2 = n_hidden2\n",
    "        self.n_topics = n_topics\n",
    "        self.n_subppl = n_subppl\n",
    "        self.w0 = shared(0.01 * rng.randn(n_genes, n_hidden1).ravel(), name='w0')\n",
    "        self.b0 = shared(0.01 * rng.randn(n_hidden1), name='b0')\n",
    "        self.w1 = shared(0.01 * rng.randn(n_hidden1, 2 * (n_subppl - 1)).ravel(), name='w1')\n",
    "        self.b1 = shared(0.01 * rng.randn(2 * (n_subppl - 1)), name='b1')\n",
    "        self.w2 = shared(0.01 * rng.randn(2 * (n_subppl - 1), n_hidden2).ravel(), name='w2')\n",
    "        self.b2 = shared(0.01 * rng.randn(n_hidden2), name='b2')\n",
    "        self.w3 = shared(0.01 * rng.randn(n_hidden2, 2 * (n_topics - 1)).ravel(), name='w3')\n",
    "        self.b3 = shared(0.01 * rng.randn(2 * (n_topics - 1)), name='b3')\n",
    "        self.rng = MRG_RandomStreams(seed=random_seed)\n",
    "        self.p_corruption = p_corruption\n",
    "    def encode(self, xs):\n",
    "        if 0 < self.p_corruption:\n",
    "            dixs, vixs = xs.nonzero()\n",
    "            mask = tt.set_subtensor(\n",
    "                tt.zeros_like(xs)[dixs, vixs],\n",
    "                self.rng.binomial(size=dixs.shape, n=1, p=1-self.p_corruption)\n",
    "            )\n",
    "            xs_ = xs * mask\n",
    "        else:\n",
    "            xs_ = xs\n",
    "        w0 = self.w0.reshape((self.n_genes, self.n_hidden1))\n",
    "        w1 = self.w1.reshape((self.n_hidden1, 2 * (self.n_subppl -1) ))\n",
    "        w2 = self.w2.reshape((2 * (self.n_subppl -1) , self.n_hidden2))   \n",
    "        w3 = self.w3.reshape((self.n_hidden2, 2 * (n_topics - 1) )) \n",
    "        h1s = tt.tanh(xs_.dot(w0) + self.b0)\n",
    "        ks = h1s.dot(w1) +self.b1\n",
    "        h2s = tt.tanh(ks.dot(w2) + self.b2)\n",
    "        zs = h2s.dot(w3) + self.b3\n",
    "\n",
    "        zs_mean = zs[:, :(self.n_topics - 1)]\n",
    "        zs_std = zs[:, (self.n_topics - 1):]\n",
    "        return zs_mean, zs_std #, ks_mean, ks_std\n",
    "    def get_params(self):\n",
    "        return [self.w0, self.b0, self.w1, self.b1, self.w2, self.b2 , self.w3, self.b3]\n",
    "        "
   ]
  },
  {
   "cell_type": "code",
   "execution_count": 24,
   "metadata": {},
   "outputs": [],
   "source": [
    "        \n",
    "encoder = LDAEncoder(n_genes = n_genes, n_hidden1=800, n_hidden2=400, n_topics=n_topics, n_subppl=n_subppl, p_corruption=0.0)\n",
    "#vi_encoder = encoder.encode(counts_share)\n",
    "#local_RVs = OrderedDict([(theta, vi_encoder[:2]), (phi, vi_encoder[2:])])\n",
    "local_RVs = OrderedDict([(theta, encoder.encode(counts_share))])\n",
    "\n",
    "encoder_params = encoder.get_params()  \n",
    "\n",
    "\n"
   ]
  },
  {
   "cell_type": "code",
   "execution_count": 25,
   "metadata": {
    "scrolled": true
   },
   "outputs": [
    {
     "name": "stderr",
     "output_type": "stream",
     "text": [
      "Average Loss = 7.4926e+06: 100%|██████████| 4000/4000 [1:20:25<00:00,  1.17s/it]\n",
      "Finished [100%]: Average Loss = 7.4926e+06\n",
      "INFO:pymc3.variational.inference:Finished [100%]: Average Loss = 7.4926e+06\n"
     ]
    }
   ],
   "source": [
    "with lda_model:\n",
    "    approx1 = pm.fit(6000, method='advi',\n",
    "                 local_rv=local_RVs,\n",
    "                 more_obj_params=encoder_params,\n",
    "                 # https://arxiv.org/pdf/1705.08292.pdf\n",
    "                 # sgd(with/without momentum) seems to be good choice for high dimensional problems\n",
    "                 obj_optimizer=pm.sgd,\n",
    "                 total_grad_norm_constraint=1000)\n",
    "    samples = pm.sample_approx(approx1, draws=100)\n",
    "    theta_pymc3 = samples['theta'].mean(axis=0)\n",
    "    phi_pymc3 = samples['phi'].mean(axis=0)\n",
    "    psi_pymc3 = samples['psi'].mean(axis=0)\n",
    "\n"
   ]
  },
  {
   "cell_type": "code",
   "execution_count": 26,
   "metadata": {},
   "outputs": [
    {
     "data": {
      "image/png": "[encoded data removed]",
      "text/plain": [
       "<matplotlib.figure.Figure at 0x12ef65400>"
      ]
     },
     "metadata": {},
     "output_type": "display_data"
    }
   ],
   "source": [
    "import matplotlib.pyplot as plt\n",
    "plt.plot(approx1.hist[10:]) \n",
    "plt.show()\n",
    "# encoder = LDAEncoder(n_genes = n_genes, n_hidden=33, n_topics=n_topics, n_subppl=33, p_corruption=0.0)\n",
    "# 444 x 999 cell by genes\n",
    "# K5 L6\n",
    "\n"
   ]
  },
  {
   "cell_type": "code",
   "execution_count": 10,
   "metadata": {},
   "outputs": [
    {
     "data": {
      "text/plain": [
       "array([[  1.00116767e-09,   3.87841110e-05,   4.83886708e-08,\n",
       "          2.20516259e-05,   2.00163353e-02,   9.79922780e-01],\n",
       "       [  1.00704297e-09,   2.65973878e-07,   3.07167713e-08,\n",
       "          9.81221040e-01,   1.62846642e-02,   2.49399849e-03],\n",
       "       [  8.05786118e-01,   3.70753705e-03,   3.35580991e-06,\n",
       "          1.04238385e-02,   1.46631047e-01,   3.34481039e-02],\n",
       "       [  1.00123652e-09,   2.36777227e-05,   4.55473262e-08,\n",
       "          1.09317622e-05,   6.94337656e-03,   9.93021967e-01],\n",
       "       [  1.00127683e-09,   3.32735889e-05,   4.75236028e-08,\n",
       "          2.42363853e-05,   7.34559399e-03,   9.92596848e-01],\n",
       "       [  7.97346950e-01,   1.32749479e-02,   9.83566890e-06,\n",
       "          9.81628522e-03,   1.46032845e-01,   3.35191355e-02],\n",
       "       [  1.00715429e-09,   3.17112785e-07,   3.34509854e-08,\n",
       "          9.67944497e-01,   2.10995159e-02,   1.09556354e-02],\n",
       "       [  8.06958312e-01,   8.51181679e-03,   8.38874638e-06,\n",
       "          1.29633329e-02,   1.26647512e-01,   4.49106376e-02],\n",
       "       [  1.00119819e-09,   5.15774704e-05,   4.51930126e-08,\n",
       "          1.89408989e-05,   1.50737992e-02,   9.84855636e-01],\n",
       "       [  8.06013885e-01,   7.58595632e-03,   1.20210194e-05,\n",
       "          6.69809614e-03,   1.37077382e-01,   4.26126601e-02],\n",
       "       [  1.00689820e-09,   2.81404044e-07,   3.12767280e-08,\n",
       "          9.82614587e-01,   9.39181100e-03,   7.99328806e-03],\n",
       "       [  1.00683029e-09,   3.96787913e-07,   3.11700000e-08,\n",
       "          9.80705195e-01,   1.64273191e-02,   2.86705726e-03],\n",
       "       [  8.06158514e-01,   9.87727851e-03,   1.35274925e-05,\n",
       "          7.07328711e-03,   1.39818615e-01,   3.70587778e-02],\n",
       "       [  1.00124448e-09,   1.30322937e-04,   4.66195301e-08,\n",
       "          2.24454557e-05,   1.93871970e-02,   9.80459987e-01],\n",
       "       [  8.05480813e-01,   9.15488098e-03,   6.07316205e-06,\n",
       "          1.21333115e-02,   1.48985994e-01,   2.42389275e-02],\n",
       "       [  6.59530355e-01,   1.34819104e-02,   1.00676385e-05,\n",
       "          1.32477773e-02,   2.45219403e-01,   6.85104866e-02],\n",
       "       [  8.15885149e-01,   6.24701997e-03,   6.62905080e-06,\n",
       "          7.53383817e-03,   1.32529318e-01,   3.77980459e-02],\n",
       "       [  8.05440597e-01,   9.48219019e-03,   8.71547359e-06,\n",
       "          9.20330887e-03,   1.31920071e-01,   4.39451171e-02],\n",
       "       [  1.00743249e-09,   3.33462226e-07,   3.20763441e-08,\n",
       "          9.76488868e-01,   2.03404709e-02,   3.17029415e-03],\n",
       "       [  1.00120613e-09,   2.69866075e-05,   4.98584516e-08,\n",
       "          4.77404609e-06,   4.60166158e-03,   9.95366527e-01],\n",
       "       [  8.04901710e-01,   6.70930670e-03,   5.52154876e-06,\n",
       "          6.01177195e-03,   1.30439874e-01,   5.19318162e-02],\n",
       "       [  8.04229119e-01,   9.36963456e-03,   5.90683295e-06,\n",
       "          1.38398813e-02,   1.37161462e-01,   3.53939960e-02],\n",
       "       [  8.01690612e-01,   5.16675360e-03,   5.47239897e-06,\n",
       "          1.42710031e-02,   1.44020163e-01,   3.48459962e-02],\n",
       "       [  1.02668652e-09,   1.93757021e-07,   9.79252335e-01,\n",
       "          5.99238183e-03,   6.30794306e-03,   8.44714504e-03],\n",
       "       [  8.06704828e-01,   5.23751563e-03,   4.73859181e-06,\n",
       "          1.26784503e-02,   1.45355605e-01,   3.00188625e-02],\n",
       "       [  1.00120818e-09,   6.64556341e-05,   4.99309684e-08,\n",
       "          1.15562118e-05,   6.12779305e-03,   9.93794144e-01],\n",
       "       [  8.13027495e-01,   9.52759704e-03,   2.92529535e-06,\n",
       "          7.93223639e-03,   1.28034814e-01,   4.14749321e-02],\n",
       "       [  1.02720492e-09,   2.19114157e-07,   9.79461618e-01,\n",
       "          5.24227353e-03,   7.62043841e-03,   7.67545004e-03],\n",
       "       [  1.00674802e-09,   2.74010079e-07,   3.06894120e-08,\n",
       "          9.77657603e-01,   1.83630255e-02,   3.97906610e-03],\n",
       "       [  8.04920436e-01,   1.17671345e-02,   7.70782121e-06,\n",
       "          1.02133431e-02,   1.40096109e-01,   3.29952697e-02],\n",
       "       [  1.00112166e-09,   3.91383103e-05,   4.86945448e-08,\n",
       "          1.44677252e-05,   8.77506379e-03,   9.91171280e-01],\n",
       "       [  1.00655469e-09,   3.75001355e-07,   3.46122187e-08,\n",
       "          9.70789418e-01,   2.15331796e-02,   7.67699172e-03],\n",
       "       [  8.05133489e-01,   9.64061687e-03,   8.69322703e-06,\n",
       "          1.46164656e-02,   1.45882391e-01,   2.47183441e-02],\n",
       "       [  1.00128313e-09,   7.75288491e-05,   4.80498846e-08,\n",
       "          5.99634318e-05,   5.89167516e-03,   9.93970784e-01],\n",
       "       [  1.02889310e-09,   1.82139688e-07,   9.79797779e-01,\n",
       "          6.69452107e-03,   6.04709916e-03,   7.46041789e-03],\n",
       "       [  8.01327586e-01,   8.48613631e-03,   8.85618613e-06,\n",
       "          1.19619924e-02,   1.47013484e-01,   3.12019450e-02],\n",
       "       [  1.00057817e-09,   1.16068604e-04,   6.12673087e-09,\n",
       "          5.76888832e-06,   9.99386292e-01,   4.91863074e-04],\n",
       "       [  1.00129376e-09,   3.08233087e-05,   4.68600086e-08,\n",
       "          7.17199908e-06,   3.28883402e-03,   9.96673123e-01],\n",
       "       [  1.00701518e-09,   3.25113106e-07,   3.30902819e-08,\n",
       "          9.84593606e-01,   9.05199745e-03,   6.35403710e-03],\n",
       "       [  1.00130851e-09,   2.49828579e-05,   4.57384294e-08,\n",
       "          1.52145327e-05,   7.89890528e-03,   9.92060851e-01],\n",
       "       [  1.00144790e-09,   3.13563545e-05,   4.88321237e-08,\n",
       "          1.44493778e-05,   1.25839029e-02,   9.87370242e-01],\n",
       "       [  8.18104146e-01,   4.49855111e-03,   3.31486379e-06,\n",
       "          6.02968203e-03,   1.26877282e-01,   4.44870234e-02],\n",
       "       [  8.06937749e-01,   6.04839566e-03,   6.35754398e-06,\n",
       "          8.82222952e-03,   1.33934405e-01,   4.42508632e-02],\n",
       "       [  1.00642653e-09,   3.32128203e-07,   3.20005919e-08,\n",
       "          9.85440092e-01,   9.39064455e-03,   5.16889859e-03],\n",
       "       [  1.00114562e-09,   2.11338752e-05,   4.63500940e-08,\n",
       "          1.15814800e-05,   7.31087910e-03,   9.92656358e-01],\n",
       "       [  8.15374588e-01,   6.75662806e-03,   5.22253858e-06,\n",
       "          1.22757940e-02,   1.34554158e-01,   3.10336096e-02],\n",
       "       [  1.00062732e-09,   6.00537224e-05,   6.11578159e-09,\n",
       "          3.71882030e-06,   9.99127589e-01,   8.08631490e-04],\n",
       "       [  1.00129192e-09,   2.03145759e-05,   4.80650776e-08,\n",
       "          1.28357803e-05,   6.33135884e-03,   9.93635442e-01],\n",
       "       [  1.00133920e-09,   1.97494073e-04,   4.80342741e-08,\n",
       "          1.56801588e-05,   9.85079024e-03,   9.89935986e-01],\n",
       "       [  1.00728592e-09,   3.29859439e-07,   3.16965599e-08,\n",
       "          9.67362326e-01,   2.59194885e-02,   6.71782296e-03],\n",
       "       [  1.00773321e-09,   2.38271085e-07,   3.26184115e-08,\n",
       "          9.74437058e-01,   1.26628475e-02,   1.28998224e-02],\n",
       "       [  1.00123765e-09,   9.23932955e-05,   4.95152104e-08,\n",
       "          7.52182429e-06,   1.53228160e-02,   9.84577218e-01],\n",
       "       [  1.00730870e-09,   3.06116892e-07,   3.23944422e-08,\n",
       "          9.77116260e-01,   1.81521182e-02,   4.73128202e-03],\n",
       "       [  1.00755409e-09,   2.53758777e-07,   3.05754757e-08,\n",
       "          9.86938723e-01,   9.95182571e-03,   3.10916547e-03],\n",
       "       [  1.00673360e-09,   2.27605814e-07,   3.01636860e-08,\n",
       "          9.77789900e-01,   1.36177373e-02,   8.59210348e-03],\n",
       "       [  1.00117208e-09,   2.58707443e-05,   4.90588389e-08,\n",
       "          2.21368006e-05,   7.37776133e-03,   9.92574181e-01],\n",
       "       [  8.07424912e-01,   5.87371809e-03,   3.44301744e-06,\n",
       "          1.07956798e-02,   1.31227915e-01,   4.46743318e-02],\n",
       "       [  8.22642307e-01,   1.00863404e-02,   2.91422733e-06,\n",
       "          8.99899964e-03,   1.23771067e-01,   3.44983718e-02],\n",
       "       [  1.02591745e-09,   1.56844499e-07,   9.79491939e-01,\n",
       "          6.73538893e-03,   6.53965555e-03,   7.23285855e-03],\n",
       "       [  1.00066594e-09,   6.43944034e-05,   6.32606149e-09,\n",
       "          6.23935947e-06,   9.99573189e-01,   3.56169776e-04],\n",
       "       [  1.00055653e-09,   4.41202777e-05,   5.87685996e-09,\n",
       "          3.98080620e-06,   9.99815149e-01,   1.36743381e-04],\n",
       "       [  1.00054551e-09,   4.03159449e-05,   5.92534937e-09,\n",
       "          9.42730967e-06,   9.97889112e-01,   2.06113779e-03],\n",
       "       [  1.00061783e-09,   8.38421222e-05,   6.07981995e-09,\n",
       "          5.07187584e-06,   9.99545061e-01,   3.66017978e-04],\n",
       "       [  1.00068060e-09,   4.21602156e-05,   6.14889191e-09,\n",
       "          2.67947737e-06,   9.99798843e-01,   1.56310219e-04],\n",
       "       [  1.00066179e-09,   2.59093644e-05,   5.96226863e-09,\n",
       "          5.01074007e-06,   9.99678182e-01,   2.90890535e-04],\n",
       "       [  1.00121218e-09,   2.96537212e-05,   4.50665627e-08,\n",
       "          4.54277392e-05,   6.23256215e-03,   9.93692310e-01],\n",
       "       [  1.02954221e-09,   1.91645655e-07,   9.79058066e-01,\n",
       "          7.08807638e-03,   6.50629250e-03,   7.34737263e-03],\n",
       "       [  1.00055520e-09,   5.52497676e-05,   6.07156301e-09,\n",
       "          3.09956218e-06,   9.97460719e-01,   2.48092423e-03],\n",
       "       [  1.02717499e-09,   1.90253225e-07,   9.79262235e-01,\n",
       "          6.01108431e-03,   6.69600279e-03,   8.03048670e-03],\n",
       "       [  1.00061238e-09,   7.16283591e-05,   5.99224306e-09,\n",
       "          4.70352068e-06,   9.99564084e-01,   3.59577189e-04],\n",
       "       [  1.00060647e-09,   2.98634864e-05,   6.01418893e-09,\n",
       "          8.33659849e-06,   9.97038165e-01,   2.92362786e-03],\n",
       "       [  1.00066959e-09,   4.44509766e-05,   5.94254206e-09,\n",
       "          3.44935808e-06,   9.99576869e-01,   3.75223608e-04],\n",
       "       [  1.00662142e-09,   3.78005085e-07,   3.18193021e-08,\n",
       "          9.83634004e-01,   1.36889193e-02,   2.67666592e-03],\n",
       "       [  1.00061950e-09,   7.99097605e-05,   6.18605679e-09,\n",
       "          7.41323621e-06,   9.99798786e-01,   1.13884266e-04],\n",
       "       [  1.00060814e-09,   6.34418678e-05,   6.08953762e-09,\n",
       "          3.58833923e-06,   9.99756523e-01,   1.76439312e-04],\n",
       "       [  8.05406634e-01,   4.62756851e-03,   4.27872813e-06,\n",
       "          1.17089869e-02,   1.47027667e-01,   3.12248644e-02],\n",
       "       [  1.00060256e-09,   3.55989911e-05,   6.11535761e-09,\n",
       "          4.55056086e-06,   9.99392909e-01,   5.66934378e-04],\n",
       "       [  9.05485795e-01,   5.82140766e-03,   2.68353854e-06,\n",
       "          7.04096982e-03,   6.62223218e-02,   1.54268219e-02],\n",
       "       [  7.97815557e-01,   4.95143743e-03,   4.22714724e-06,\n",
       "          1.42663797e-02,   1.44047241e-01,   3.89151578e-02],\n",
       "       [  1.02702312e-09,   1.91429414e-07,   9.79342348e-01,\n",
       "          5.31347146e-03,   8.71802249e-03,   6.62596573e-03],\n",
       "       [  1.00061485e-09,   6.48723656e-05,   6.20000821e-09,\n",
       "          2.98626510e-06,   9.99556270e-01,   3.75864053e-04],\n",
       "       [  1.00058587e-09,   2.14791975e-05,   6.10888264e-09,\n",
       "          3.74826210e-06,   9.99466386e-01,   5.08379213e-04],\n",
       "       [  1.00063955e-09,   6.57903408e-05,   6.24879308e-09,\n",
       "          2.26856707e-06,   9.97691554e-01,   2.24037938e-03],\n",
       "       [  1.00064035e-09,   6.19562494e-05,   5.99735500e-09,\n",
       "          3.94364932e-06,   9.99422620e-01,   5.11473578e-04],\n",
       "       [  1.00068597e-09,   4.76738716e-05,   5.78225675e-09,\n",
       "          8.03286318e-06,   9.96358443e-01,   3.58584316e-03],\n",
       "       [  1.00063755e-09,   3.86390880e-05,   6.01970557e-09,\n",
       "          6.42995956e-06,   9.94900386e-01,   5.05453771e-03],\n",
       "       [  1.00074254e-09,   3.59936263e-05,   6.14600558e-09,\n",
       "          4.03654663e-06,   9.99519584e-01,   4.40379028e-04],\n",
       "       [  1.00068093e-09,   3.52992099e-05,   6.08276847e-09,\n",
       "          6.01691886e-06,   9.98639512e-01,   1.31916528e-03],\n",
       "       [  1.00056770e-09,   7.81087624e-05,   5.95725484e-09,\n",
       "          3.00638349e-06,   9.99399680e-01,   5.19197865e-04],\n",
       "       [  1.00057653e-09,   4.22344359e-05,   5.91136428e-09,\n",
       "          3.71671377e-06,   9.99705485e-01,   2.48556515e-04],\n",
       "       [  1.00060243e-09,   4.79788695e-05,   5.99585949e-09,\n",
       "          3.03812401e-06,   9.99843512e-01,   1.05463929e-04],\n",
       "       [  8.20122524e-01,   8.82918727e-03,   4.66679115e-06,\n",
       "          9.32448001e-03,   1.25256210e-01,   3.64629320e-02],\n",
       "       [  1.00061975e-09,   6.07826910e-05,   6.11612115e-09,\n",
       "          3.07379804e-06,   9.99606413e-01,   3.29723743e-04],\n",
       "       [  1.00057788e-09,   2.38967908e-05,   5.99748365e-09,\n",
       "          6.40836138e-06,   9.99697473e-01,   2.72215198e-04],\n",
       "       [  1.00059296e-09,   5.28391408e-05,   6.00658111e-09,\n",
       "          3.88080405e-06,   9.99836519e-01,   1.06754309e-04],\n",
       "       [  1.00056234e-09,   2.24523262e-05,   6.00650475e-09,\n",
       "          2.54553335e-06,   9.99568402e-01,   4.06592652e-04],\n",
       "       [  1.00065607e-09,   5.90615006e-05,   6.12707536e-09,\n",
       "          3.89972022e-06,   9.98925303e-01,   1.01172834e-03],\n",
       "       [  1.02987106e-09,   2.11412018e-07,   9.79151104e-01,\n",
       "          5.08040905e-03,   7.55100279e-03,   8.21727140e-03],\n",
       "       [  1.00745234e-09,   2.76973325e-07,   3.39184919e-08,\n",
       "          9.73893260e-01,   9.75678075e-03,   1.63496471e-02],\n",
       "       [  1.00064399e-09,   1.29451152e-04,   6.08265588e-09,\n",
       "          2.54811134e-06,   9.98736346e-01,   1.13164790e-03]])"
      ]
     },
     "execution_count": 10,
     "metadata": {},
     "output_type": "execute_result"
    }
   ],
   "source": [
    "theta_pymc3[:100]"
   ]
  },
  {
   "cell_type": "code",
   "execution_count": 27,
   "metadata": {},
   "outputs": [
    {
     "data": {
      "text/plain": [
       "pymc3  celda\n",
       "0      1        136\n",
       "1      2        114\n",
       "3      4         51\n",
       "4      3        102\n",
       "5      5         41\n",
       "dtype: int64"
      ]
     },
     "execution_count": 27,
     "metadata": {},
     "output_type": "execute_result"
    }
   ],
   "source": [
    "\n",
    "## get label for each cell\n",
    "celda_z = np.load(\"./celda_simulated/simCG_z_K5L6.npy\")  # cell clusters \n",
    "pymc3_z = theta_pymc3.argmax(axis=1)\n",
    "pd.DataFrame({\"celda\":celda_z, \"pymc3\":pymc3_z}).groupby([\"pymc3\",\"celda\"]).size() \n",
    "# simulated result from celda_CG(seed=77)\n",
    "\n",
    "\n"
   ]
  },
  {
   "cell_type": "code",
   "execution_count": 28,
   "metadata": {},
   "outputs": [
    {
     "data": {
      "text/plain": [
       "pymc3  celda\n",
       "0      1         92\n",
       "       2         41\n",
       "       5        109\n",
       "1      2          3\n",
       "       4          6\n",
       "       6          2\n",
       "2      1         25\n",
       "       2        155\n",
       "       3         17\n",
       "       4          3\n",
       "       5          8\n",
       "3      1        106\n",
       "       3        188\n",
       "4      1         19\n",
       "       2          1\n",
       "       3          2\n",
       "       4        222\n",
       "dtype: int64"
      ]
     },
     "execution_count": 28,
     "metadata": {},
     "output_type": "execute_result"
    }
   ],
   "source": [
    "celda_y = np.load(\"./celda_simulated/simCG_y_K5L6.npy\")\n",
    "pymc3_y = psi_pymc3.argmax(axis=0)\n",
    "pd.DataFrame({\"celda\":celda_y, \"pymc3\":pymc3_y}).groupby([\"pymc3\",\"celda\"]).size() "
   ]
  },
  {
   "cell_type": "code",
   "execution_count": null,
   "metadata": {},
   "outputs": [],
   "source": [
    "# get gene distribution for each subpopulation"
   ]
  },
  {
   "cell_type": "code",
   "execution_count": 54,
   "metadata": {},
   "outputs": [],
   "source": [
    "def subpopulation_logp_lda_doc( phi, psi):\n",
    "    \"\"\"return the loglikelihood of given document \n",
    "    M: number of cells \n",
    "    K: number of cellular subpopulation \n",
    "    N: number of genes \n",
    "    parameters\n",
    "    ---------- \n",
    "    phi:  tensor (M x K) \n",
    "      gene transcriptional states \n",
    "    psi: tensor (K x N)\n",
    "      Gene distributions for each subpopulation. \n",
    "    \"\"\"\n",
    "    def ll_docs_f(docs):\n",
    "        dixs, vixs = docs.nonzero()\n",
    "        vfreqs = docs[dixs, vixs]\n",
    "        ll_docs = vfreqs * pmmath.logsumexp(\n",
    "            tt.log(phi[dixs]) + tt.log(psi.T[vixs]), axis=1).ravel()\n",
    "        # Per-word log-likelihood times num of tokens in the whole dataset\n",
    "        return tt.sum(ll_docs) \n",
    "    return ll_docs_f\n",
    "\n"
   ]
  },
  {
   "cell_type": "code",
   "execution_count": 55,
   "metadata": {},
   "outputs": [],
   "source": [
    "with pm.Model() as subpopulation_lda_model:\n",
    "    phi = Dirichlet('phi', a=pm.floatX(1.0/n_subppl) * np.ones((sim_counts.shape[0], n_subppl)), shape = (sim_counts.shape[0],n_subppl), transform=t_stick_breaking(1e-9) )\n",
    "    psi = Dirichlet('psi', a = pm.floatX(1.0/n_subppl) * np.ones((n_subppl, sim_counts.shape[1])), shape= (n_subppl, sim_counts.shape[1]), transform=t_stick_breaking(1e-9) )\n",
    "    doc = pm.DensityDist('doc', subpopulation_logp_lda_doc( phi, psi), observed = sim_counts)"
   ]
  },
  {
   "cell_type": "code",
   "execution_count": 56,
   "metadata": {},
   "outputs": [],
   "source": [
    "###### Auto-Encoding Variational Bayes\n",
    "## Encoder for subpopulation_logp_lda_doc model \n",
    "class subpopulation_LDAEncoder:\n",
    "    \"\"\"Encode (term-frequency) document vectors to variational means and (log-transformed) stds.\n",
    "    \"\"\"\n",
    "    def __init__(self, n_genes, n_hidden, n_subppl, p_corruption=0, random_seed=1):\n",
    "        rng = np.random.RandomState(random_seed)\n",
    "        self.n_genes = n_genes\n",
    "        self.n_hidden = n_hidden\n",
    "        self.n_subppl = n_subppl\n",
    "        self.w0 = shared(0.01 * rng.randn(n_genes, n_hidden).ravel(), name='w0')\n",
    "        self.b0 = shared(0.01 * rng.randn(n_hidden), name='b0')\n",
    "        self.w1 = shared(0.01 * rng.randn(n_hidden, 2 * (n_subppl - 1)).ravel(), name='w1')\n",
    "        self.b1 = shared(0.01 * rng.randn(2 * (n_subppl - 1)), name='b1')\n",
    "        self.rng = MRG_RandomStreams(seed=random_seed)\n",
    "        self.p_corruption = p_corruption\n",
    "    def encode(self, xs):\n",
    "        if 0 < self.p_corruption:\n",
    "            dixs, vixs = xs.nonzero()\n",
    "            mask = tt.set_subtensor(\n",
    "                tt.zeros_like(xs)[dixs, vixs],\n",
    "                self.rng.binomial(size=dixs.shape, n=1, p=1-self.p_corruption)\n",
    "            )\n",
    "            xs_ = xs * mask\n",
    "        else:\n",
    "            xs_ = xs\n",
    "        w0 = self.w0.reshape((self.n_genes, self.n_hidden))\n",
    "        w1 = self.w1.reshape((self.n_hidden, 2 * (self.n_subppl - 1)))\n",
    "        hs = tt.tanh(xs_.dot(w0) + self.b0)\n",
    "        zs = hs.dot(w1) + self.b1\n",
    "        zs_mean = zs[:, :(self.n_subppl - 1)]\n",
    "        zs_std = zs[:, (self.n_subppl - 1):]\n",
    "        return zs_mean, zs_std\n",
    "    def get_params(self):\n",
    "        return [self.w0, self.b0, self.w1, self.b1]"
   ]
  },
  {
   "cell_type": "code",
   "execution_count": 57,
   "metadata": {},
   "outputs": [],
   "source": [
    "encoder_subppl = subpopulation_LDAEncoder(n_genes = n_genes, n_hidden=800, n_subppl=n_subppl, p_corruption=0.0)\n",
    "local_RVs_subppl = OrderedDict([(phi, encoder_subppl.encode(counts_share))])\n",
    "\n",
    "encoder_params_subppl = encoder_subppl.get_params()  "
   ]
  },
  {
   "cell_type": "code",
   "execution_count": 59,
   "metadata": {},
   "outputs": [
    {
     "name": "stderr",
     "output_type": "stream",
     "text": [
      "Average Loss = 7.676e+06: 100%|██████████| 6000/6000 [26:18<00:00,  3.90it/s] \n",
      "Finished [100%]: Average Loss = 7.6763e+06\n",
      "INFO:pymc3.variational.inference:Finished [100%]: Average Loss = 7.6763e+06\n"
     ]
    }
   ],
   "source": [
    "with subpopulation_lda_model:\n",
    "    approx2 = pm.fit(6000, method='advi',\n",
    "                 local_rv=local_RVs_subppl,\n",
    "                 more_obj_params=encoder_params_subppl,\n",
    "                 obj_optimizer=pm.sgd,\n",
    "                 total_grad_norm_constraint=1000)\n",
    "    samples = pm.sample_approx(approx2, draws=100)\n",
    "    subppl_psi_pymc3 = samples['psi'].mean(axis=0)\n",
    "    subppl_phi_pymc3 = samples['phi'].mean(axis=0)\n",
    "\n"
   ]
  },
  {
   "cell_type": "code",
   "execution_count": 62,
   "metadata": {},
   "outputs": [
    {
     "data": {
      "image/png": "[encoded data removed]",
      "text/plain": [
       "<matplotlib.figure.Figure at 0x1476cc358>"
      ]
     },
     "metadata": {},
     "output_type": "display_data"
    }
   ],
   "source": [
    "plt.plot(approx2.hist[10:]) \n",
    "plt.show()"
   ]
  },
  {
   "cell_type": "code",
   "execution_count": 61,
   "metadata": {},
   "outputs": [
    {
     "data": {
      "text/plain": [
       "pymc3  celda\n",
       "0      1        26\n",
       "       2        29\n",
       "       3        26\n",
       "       4        39\n",
       "       5        15\n",
       "1      1        93\n",
       "       2        71\n",
       "       3        77\n",
       "       4        11\n",
       "       5        45\n",
       "       6         2\n",
       "2      1        37\n",
       "       2        36\n",
       "       3        31\n",
       "       4        54\n",
       "       5        18\n",
       "3      1        60\n",
       "       2        39\n",
       "       3        43\n",
       "       4        76\n",
       "       5        22\n",
       "4      1        26\n",
       "       2        25\n",
       "       3        30\n",
       "       4        51\n",
       "       5        17\n",
       "dtype: int64"
      ]
     },
     "execution_count": 61,
     "metadata": {},
     "output_type": "execute_result"
    }
   ],
   "source": [
    "pymc3_y = subppl_psi_pymc3.argmax(axis=0)\n",
    "pd.DataFrame({\"celda\":celda_y, \"pymc3\":pymc3_y}).groupby([\"pymc3\",\"celda\"]).size() "
   ]
  }
 ],
 "metadata": {
  "kernelspec": {
   "display_name": "Python 3",
   "language": "python",
   "name": "python3"
  },
  "language_info": {
   "codemirror_mode": {
    "name": "ipython",
    "version": 3
   },
   "file_extension": ".py",
   "mimetype": "text/x-python",
   "name": "python",
   "nbconvert_exporter": "python",
   "pygments_lexer": "ipython3",
   "version": "3.6.3"
  }
 },
 "nbformat": 4,
 "nbformat_minor": 2
}
