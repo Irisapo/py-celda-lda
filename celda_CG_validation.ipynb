{
 "cells": [
  {
   "cell_type": "code",
   "execution_count": 1,
   "metadata": {},
   "outputs": [
    {
     "name": "stderr",
     "output_type": "stream",
     "text": [
      "/usr/local/lib/python3.6/site-packages/h5py/__init__.py:36: FutureWarning: Conversion of the second argument of issubdtype from `float` to `np.floating` is deprecated. In future, it will be treated as `np.float64 == np.dtype(float).type`.\n",
      "  from ._conv import register_converters as _register_converters\n"
     ]
    }
   ],
   "source": [
    "import pandas as pd\n",
    "import numpy as np\n",
    "\n",
    "import pymc3 as pm \n",
    "from pymc3 import math as pmmath \n",
    "from pymc3 import Dirichlet\n",
    "from pymc3.distributions.transforms import t_stick_breaking\n",
    "\n",
    "import theano \n",
    "from theano import shared\n",
    "import theano.tensor as tt\n",
    "from theano.sandbox.rng_mrg import MRG_RandomStreams\n",
    "\n",
    "from collections import OrderedDict\n",
    "\n",
    "theano.config.compute_test_value = 'ignore'"
   ]
  },
  {
   "cell_type": "code",
   "execution_count": 2,
   "metadata": {},
   "outputs": [
    {
     "name": "stdout",
     "output_type": "stream",
     "text": [
      "the shape of the count matrix is (444 cell) by (999 gene)\n",
      "length of celda_z is: 444\n",
      "length of celda_y is: 999\n"
     ]
    }
   ],
   "source": [
    "# load cell by gene count matrix with 5 topics and 6 trancriptional states\n",
    "sim_counts = np.load(\"./celda_simulated/simCG_counts_Z5K6_copy.npy\") \n",
    "# load true cell topics \n",
    "celda_z = np.load(\"./celda_simulated/simCG_z_Z5K6_copy.npy\")\n",
    "# load true gene transcriptional states\n",
    "celda_y = np.load(\"./celda_simulated/simCG_y_Z5K6_copy.npy\")\n",
    "\n",
    "\n",
    "counts_share = theano.shared(sim_counts)\n",
    "\n",
    "print(\"the shape of the count matrix is ({} cell) by ({} gene)\".format(*sim_counts.shape))   # cell x gene : 444 x 999\n",
    "print(\"length of celda_z is:\", len(celda_z))\n",
    "print(\"length of celda_y is:\", len(celda_y))"
   ]
  },
  {
   "cell_type": "code",
   "execution_count": 3,
   "metadata": {},
   "outputs": [],
   "source": [
    "# define the number of categories for each of the 2 latent variables\n",
    "n_topics = 5     # 5 topics  -- latent variable 1\n",
    "n_subppl = 6     # 6 trancriptional states  -- latent variable 2\n",
    "n_genes = sim_counts.shape[1]"
   ]
  },
  {
   "cell_type": "code",
   "execution_count": 4,
   "metadata": {},
   "outputs": [],
   "source": [
    "def logp_lda_doc(theta, phi, psi):\n",
    "    \"\"\"return the loglikelihood\n",
    "    Z: number of topics in the model \n",
    "    M: number of cells \n",
    "    K: number of cellular subpopulation  # i.e., number of transcriptional states\n",
    "    N: number of genes \n",
    "    parameters\n",
    "    ----------\n",
    "    theta:  tensor (M x Z)\n",
    "      Topic distribution for document \n",
    "    phi:  tensor (Z x K) \n",
    "      Cellular subpopulation distribution within topic\n",
    "    psi: tensor (K x N)\n",
    "      Gene distributions. \n",
    "    \"\"\"\n",
    "    def ll_docs_f(docs):\n",
    "        dixs, vixs = docs.nonzero()\n",
    "        vfreqs = docs[dixs, vixs]\n",
    "        #  loop the inner logsumexp over each topic  (inner logsumexp: within each topic do the logsumexp)\n",
    "        #  store the results as reuslts1\n",
    "        results1, updates1 = theano.scan(lambda phi,psi,vixs: \n",
    "                             pmmath.logsumexp(tt.log(tt.tile(phi, (vixs.shape[0],1))) + tt.log(psi.T[vixs]), axis=1).ravel(), \n",
    "                             sequences=phi, \n",
    "                             non_sequences=[psi,vixs])\n",
    "        ll_docs = vfreqs * pmmath.logsumexp(\n",
    "            tt.log(theta[dixs])+results1.T, axis=1).ravel()\n",
    "        \n",
    "        return tt.sum(ll_docs)\n",
    "    return ll_docs_f\n"
   ]
  },
  {
   "cell_type": "code",
   "execution_count": 5,
   "metadata": {},
   "outputs": [],
   "source": [
    "with pm.Model() as lda_model:\n",
    "    theta = Dirichlet(\"theta\", \n",
    "                      a=pm.floatX(1.0/n_topics)*np.ones((sim_counts.shape[0],n_topics)),\n",
    "                      shape = (sim_counts.shape[0],n_topics), transform=t_stick_breaking(1e-9) )\n",
    "    phi = Dirichlet(\"phi\", \n",
    "                   a=pm.floatX(1.0/n_topics)*np.ones((n_topics,n_subppl)),\n",
    "                   shape = (n_topics, n_subppl), transform=t_stick_breaking(1e-9))\n",
    "    psi = Dirichlet(\"psi\", \n",
    "                   a=pm.floatX(1.0/n_topics)*np.ones((n_subppl,sim_counts.shape[1])),\n",
    "                   shape = (n_subppl,sim_counts.shape[1]),transform=t_stick_breaking(1e-9) )\n",
    "    doc = pm.DensityDist('doc', logp_lda_doc(theta, phi, psi), observed=sim_counts)\n"
   ]
  },
  {
   "cell_type": "code",
   "execution_count": 6,
   "metadata": {},
   "outputs": [],
   "source": [
    "###### Auto-Encoding Variational Bayes\n",
    "## Encoder\n",
    "class LDAEncoder:\n",
    "    def __init__(self, n_genes, n_hidden1, n_hidden2, n_topics, n_subppl, p_corruption=0, random_seed=1):\n",
    "        rng = np.random.RandomState(random_seed)\n",
    "        self.n_genes = n_genes\n",
    "        self.n_hidden1 = n_hidden1\n",
    "        self.n_hidden2 = n_hidden2\n",
    "        self.n_topics = n_topics\n",
    "        self.n_subppl = n_subppl\n",
    "        self.w0 = shared(0.01 * rng.randn(n_genes, n_hidden1).ravel(), name='w0')\n",
    "        self.b0 = shared(0.01 * rng.randn(n_hidden1), name='b0')\n",
    "        self.w1 = shared(0.01 * rng.randn(n_hidden1, 2 * (n_subppl - 1)).ravel(), name='w1')\n",
    "        self.b1 = shared(0.01 * rng.randn(2 * (n_subppl - 1)), name='b1')\n",
    "        self.w2 = shared(0.01 * rng.randn(2 * (n_subppl - 1), n_hidden2).ravel(), name='w2')\n",
    "        self.b2 = shared(0.01 * rng.randn(n_hidden2), name='b2')\n",
    "        self.w3 = shared(0.01 * rng.randn(n_hidden2, 2 * (n_topics - 1)).ravel(), name='w3')\n",
    "        self.b3 = shared(0.01 * rng.randn(2 * (n_topics - 1)), name='b3')\n",
    "        self.rng = MRG_RandomStreams(seed=random_seed)\n",
    "        self.p_corruption = p_corruption\n",
    "    def encode(self, xs):\n",
    "        if 0 < self.p_corruption:\n",
    "            dixs, vixs = xs.nonzero()\n",
    "            mask = tt.set_subtensor(\n",
    "                tt.zeros_like(xs)[dixs, vixs],\n",
    "                self.rng.binomial(size=dixs.shape, n=1, p=1-self.p_corruption)\n",
    "            )\n",
    "            xs_ = xs * mask\n",
    "        else:\n",
    "            xs_ = xs\n",
    "        w0 = self.w0.reshape((self.n_genes, self.n_hidden1))\n",
    "        w1 = self.w1.reshape((self.n_hidden1, 2 * (self.n_subppl -1) ))\n",
    "        w2 = self.w2.reshape((2 * (self.n_subppl -1) , self.n_hidden2))   \n",
    "        w3 = self.w3.reshape((self.n_hidden2, 2 * (n_topics - 1) )) \n",
    "        h1s = tt.tanh(xs_.dot(w0) + self.b0)\n",
    "        ks = h1s.dot(w1) +self.b1\n",
    "        h2s = tt.tanh(ks.dot(w2) + self.b2)\n",
    "        zs = h2s.dot(w3) + self.b3\n",
    "\n",
    "        zs_mean = zs[:, :(self.n_topics - 1)]\n",
    "        zs_std = zs[:, (self.n_topics - 1):]\n",
    "        return {'mu':zs_mean, 'rho': zs_std} #, ks_mean, ks_std\n",
    "    def get_params(self):\n",
    "        return [self.w0, self.b0, self.w1, self.b1, self.w2, self.b2 , self.w3, self.b3]\n",
    "        "
   ]
  },
  {
   "cell_type": "code",
   "execution_count": 7,
   "metadata": {},
   "outputs": [],
   "source": [
    "        \n",
    "encoder = LDAEncoder(n_genes = n_genes, n_hidden1=800, n_hidden2=400, n_topics=n_topics, n_subppl=n_subppl, p_corruption=0.0)\n",
    "#vi_encoder = encoder.encode(counts_share)\n",
    "#local_RVs = OrderedDict([(theta, vi_encoder[:2]), (phi, vi_encoder[2:])])\n",
    "local_RVs = OrderedDict([(theta, encoder.encode(counts_share))])\n",
    "\n",
    "encoder_params = encoder.get_params()  \n"
   ]
  },
  {
   "cell_type": "code",
   "execution_count": 14,
   "metadata": {
    "scrolled": true
   },
   "outputs": [
    {
     "name": "stderr",
     "output_type": "stream",
     "text": [
      "Average Loss = 7.4907e+06: 100%|██████████| 6000/6000 [2:23:38<00:00,  1.43s/it]  \n",
      "Finished [100%]: Average Loss = 7.4907e+06\n",
      "INFO:pymc3.variational.inference:Finished [100%]: Average Loss = 7.4907e+06\n"
     ]
    },
    {
     "data": {
      "text/plain": [
       "<pymc3.variational.approximations.MeanField at 0x14ba60f28>"
      ]
     },
     "execution_count": 14,
     "metadata": {},
     "output_type": "execute_result"
    }
   ],
   "source": [
    "with lda_model:\n",
    "    approx1 = pm.MeanField(local_rv=local_RVs)\n",
    "    inference = pm.KLqp(approx1)\n",
    "inference.fit(6000,\n",
    "             more_obj_params=encoder_params,\n",
    "             obj_optimizer=pm.sgd, \n",
    "             total_grad_norm_constraint=800)\n",
    "\n",
    "\n"
   ]
  },
  {
   "cell_type": "code",
   "execution_count": 15,
   "metadata": {},
   "outputs": [
    {
     "data": {
      "image/png": "[encoded data removed]",
      "text/plain": [
       "<matplotlib.figure.Figure at 0x147578a90>"
      ]
     },
     "metadata": {},
     "output_type": "display_data"
    }
   ],
   "source": [
    "import matplotlib.pyplot as plt\n",
    "plt.plot(approx1.hist[10:]) \n",
    "plt.show()\n"
   ]
  },
  {
   "cell_type": "code",
   "execution_count": 16,
   "metadata": {},
   "outputs": [],
   "source": [
    "trace = pm.sample_approx(approx1, draws=100)\n",
    "theta_pymc3 = trace['theta'].mean(axis=0)\n",
    "phi_pymc3 = trace['phi'].mean(axis=0)\n",
    "psi_pymc3 = trace['psi'].mean(axis=0)"
   ]
  },
  {
   "cell_type": "code",
   "execution_count": 17,
   "metadata": {},
   "outputs": [
    {
     "data": {
      "text/plain": [
       "pymc3  celda\n",
       "0      1        136\n",
       "1      3        102\n",
       "2      4         51\n",
       "3      2        114\n",
       "4      5         41\n",
       "dtype: int64"
      ]
     },
     "execution_count": 17,
     "metadata": {},
     "output_type": "execute_result"
    }
   ],
   "source": [
    "# get estimated topic for each cell\n",
    "pymc3_z = theta_pymc3.argmax(axis=1)\n",
    "# compare estimated cell topics with true cell topics\n",
    "pd.DataFrame({\"celda\":celda_z, \"pymc3\":pymc3_z}).groupby([\"pymc3\",\"celda\"]).size() "
   ]
  },
  {
   "cell_type": "code",
   "execution_count": 18,
   "metadata": {},
   "outputs": [
    {
     "data": {
      "text/plain": [
       "pymc3  celda\n",
       "0      1        119\n",
       "       2         48\n",
       "       3         27\n",
       "       4         46\n",
       "       5         14\n",
       "1      1         49\n",
       "       3        170\n",
       "2      1         28\n",
       "       2         55\n",
       "       5        102\n",
       "3      2         57\n",
       "       4        169\n",
       "4      1         46\n",
       "       2         40\n",
       "       3         10\n",
       "       4         16\n",
       "       5          1\n",
       "5      6          2\n",
       "dtype: int64"
      ]
     },
     "execution_count": 18,
     "metadata": {},
     "output_type": "execute_result"
    }
   ],
   "source": [
    "# get estimated transcriptional state for each gene\n",
    "pymc3_y = psi_pymc3.argmax(axis=0)\n",
    "# compare estimated and true gene transcriptional states \n",
    "pd.DataFrame({\"celda\":celda_y, \"pymc3\":pymc3_y}).groupby([\"pymc3\",\"celda\"]).size()"
   ]
  },
  {
   "cell_type": "code",
   "execution_count": 20,
   "metadata": {},
   "outputs": [
    {
     "data": {
      "text/html": [
       "<div>\n",
       "<style scoped>\n",
       "    .dataframe tbody tr th:only-of-type {\n",
       "        vertical-align: middle;\n",
       "    }\n",
       "\n",
       "    .dataframe tbody tr th {\n",
       "        vertical-align: top;\n",
       "    }\n",
       "\n",
       "    .dataframe thead th {\n",
       "        text-align: right;\n",
       "    }\n",
       "</style>\n",
       "<table border=\"1\" class=\"dataframe\">\n",
       "  <thead>\n",
       "    <tr style=\"text-align: right;\">\n",
       "      <th>pymc3</th>\n",
       "      <th>0</th>\n",
       "      <th>1</th>\n",
       "      <th>2</th>\n",
       "      <th>3</th>\n",
       "      <th>4</th>\n",
       "      <th>5</th>\n",
       "    </tr>\n",
       "    <tr>\n",
       "      <th>celda</th>\n",
       "      <th></th>\n",
       "      <th></th>\n",
       "      <th></th>\n",
       "      <th></th>\n",
       "      <th></th>\n",
       "      <th></th>\n",
       "    </tr>\n",
       "  </thead>\n",
       "  <tbody>\n",
       "    <tr>\n",
       "      <th>1</th>\n",
       "      <td>119.0</td>\n",
       "      <td>49.0</td>\n",
       "      <td>28.0</td>\n",
       "      <td>NaN</td>\n",
       "      <td>46.0</td>\n",
       "      <td>NaN</td>\n",
       "    </tr>\n",
       "    <tr>\n",
       "      <th>2</th>\n",
       "      <td>48.0</td>\n",
       "      <td>NaN</td>\n",
       "      <td>55.0</td>\n",
       "      <td>57.0</td>\n",
       "      <td>40.0</td>\n",
       "      <td>NaN</td>\n",
       "    </tr>\n",
       "    <tr>\n",
       "      <th>3</th>\n",
       "      <td>27.0</td>\n",
       "      <td>170.0</td>\n",
       "      <td>NaN</td>\n",
       "      <td>NaN</td>\n",
       "      <td>10.0</td>\n",
       "      <td>NaN</td>\n",
       "    </tr>\n",
       "    <tr>\n",
       "      <th>4</th>\n",
       "      <td>46.0</td>\n",
       "      <td>NaN</td>\n",
       "      <td>NaN</td>\n",
       "      <td>169.0</td>\n",
       "      <td>16.0</td>\n",
       "      <td>NaN</td>\n",
       "    </tr>\n",
       "    <tr>\n",
       "      <th>5</th>\n",
       "      <td>14.0</td>\n",
       "      <td>NaN</td>\n",
       "      <td>102.0</td>\n",
       "      <td>NaN</td>\n",
       "      <td>1.0</td>\n",
       "      <td>NaN</td>\n",
       "    </tr>\n",
       "    <tr>\n",
       "      <th>6</th>\n",
       "      <td>NaN</td>\n",
       "      <td>NaN</td>\n",
       "      <td>NaN</td>\n",
       "      <td>NaN</td>\n",
       "      <td>NaN</td>\n",
       "      <td>2.0</td>\n",
       "    </tr>\n",
       "  </tbody>\n",
       "</table>\n",
       "</div>"
      ],
      "text/plain": [
       "pymc3      0      1      2      3     4    5\n",
       "celda                                       \n",
       "1      119.0   49.0   28.0    NaN  46.0  NaN\n",
       "2       48.0    NaN   55.0   57.0  40.0  NaN\n",
       "3       27.0  170.0    NaN    NaN  10.0  NaN\n",
       "4       46.0    NaN    NaN  169.0  16.0  NaN\n",
       "5       14.0    NaN  102.0    NaN   1.0  NaN\n",
       "6        NaN    NaN    NaN    NaN   NaN  2.0"
      ]
     },
     "execution_count": 20,
     "metadata": {},
     "output_type": "execute_result"
    }
   ],
   "source": [
    "y_df = pd.DataFrame({\"celda\":celda_y, \"pymc3\":pymc3_y}).groupby([\"pymc3\",\"celda\"]).size().reset_index()\n",
    "y_df = y_df.rename(columns={0:\"count\"})\n",
    "y_df.pivot(index=\"celda\",columns=\"pymc3\", values=\"count\")\n"
   ]
  },
  {
   "cell_type": "code",
   "execution_count": 23,
   "metadata": {},
   "outputs": [
    {
     "name": "stdout",
     "output_type": "stream",
     "text": [
      "gene transcriptional state accuracy: 0.6026026026026026 \n"
     ]
    }
   ],
   "source": [
    "print(\"gene transcriptional state accuracy: {} \".format((102+ 169 + 170+119+40 + 2) / sim_counts.shape[1]))"
   ]
  }
 ],
 "metadata": {
  "kernelspec": {
   "display_name": "Python 3",
   "language": "python",
   "name": "python3"
  },
  "language_info": {
   "codemirror_mode": {
    "name": "ipython",
    "version": 3
   },
   "file_extension": ".py",
   "mimetype": "text/x-python",
   "name": "python",
   "nbconvert_exporter": "python",
   "pygments_lexer": "ipython3",
   "version": "3.6.3"
  }
 },
 "nbformat": 4,
 "nbformat_minor": 2
}
